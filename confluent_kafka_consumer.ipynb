{
  "nbformat": 4,
  "nbformat_minor": 0,
  "metadata": {
    "colab": {
      "provenance": [],
      "authorship_tag": "ABX9TyNCSQkL0qQDRRzySa/g7TXu",
      "include_colab_link": true
    },
    "kernelspec": {
      "name": "python3",
      "display_name": "Python 3"
    },
    "language_info": {
      "name": "python"
    }
  },
  "cells": [
    {
      "cell_type": "markdown",
      "metadata": {
        "id": "view-in-github",
        "colab_type": "text"
      },
      "source": [
        "<a href=\"https://colab.research.google.com/github/KG-2363/Git_1_repo/blob/master/confluent_kafka_consumer.ipynb\" target=\"_parent\"><img src=\"https://colab.research.google.com/assets/colab-badge.svg\" alt=\"Open In Colab\"/></a>"
      ]
    },
    {
      "cell_type": "code",
      "execution_count": 1,
      "metadata": {
        "colab": {
          "base_uri": "https://localhost:8080/"
        },
        "id": "bsoQ-6Fj4e1W",
        "outputId": "db45318d-ed20-4dd8-e93f-8bc07c688591"
      },
      "outputs": [
        {
          "output_type": "stream",
          "name": "stdout",
          "text": [
            "Collecting confluent-Kafka\n",
            "  Downloading confluent_kafka-2.12.1-cp312-cp312-manylinux_2_28_x86_64.whl.metadata (31 kB)\n",
            "Downloading confluent_kafka-2.12.1-cp312-cp312-manylinux_2_28_x86_64.whl (3.9 MB)\n",
            "\u001b[2K   \u001b[90m━━━━━━━━━━━━━━━━━━━━━━━━━━━━━━━━━━━━━━━━\u001b[0m \u001b[32m3.9/3.9 MB\u001b[0m \u001b[31m18.3 MB/s\u001b[0m eta \u001b[36m0:00:00\u001b[0m\n",
            "\u001b[?25hInstalling collected packages: confluent-Kafka\n",
            "Successfully installed confluent-Kafka-2.12.1\n"
          ]
        }
      ],
      "source": [
        "!pip install confluent-Kafka"
      ]
    },
    {
      "cell_type": "code",
      "source": [
        "from confluent_kafka import Consumer, KafkaError, KafkaException\n",
        "import json\n",
        "import time\n",
        "import pandas as pd"
      ],
      "metadata": {
        "id": "rsyApahJ9Je3"
      },
      "execution_count": 7,
      "outputs": []
    },
    {
      "cell_type": "code",
      "source": [
        "conf = {\n",
        "    # Required connection configs for Kafka producer, consumer, and admin\n",
        "\"bootstrap.servers\":\"pkc-619z3.us-east1.gcp.confluent.cloud:9092\",\n",
        "\"security.protocol\":\"SASL_SSL\",\n",
        "\"sasl.mechanisms\":\"PLAIN\",\n",
        "\"sasl.username\":\"KLOYUWGBBPQ7HMIE\",\n",
        "\"sasl.password\":\"cfltYuWQqcMdagwA2QgjkZiiys0ipE7Sf4CmW968DZLOcTI3LA/qEncDkhXHUHtw\",\n",
        "# Best practice for higher availability in librdkafka clients prior to 1.7\n",
        "\"session.timeout.ms\":45000,\n",
        "\"client.id\":\"ccloud-python-client-03bccfdd-6ca2-49dc-9f1c-0697e750ae8a\",\n",
        "\"group.id\": \"consumer_group\"\n",
        "}\n",
        "consumer = Consumer(conf)"
      ],
      "metadata": {
        "id": "pXY2UlcV9J02"
      },
      "execution_count": 41,
      "outputs": []
    },
    {
      "cell_type": "code",
      "source": [
        "topic = 'ecommerce'"
      ],
      "metadata": {
        "id": "E-7xAK2Q9YUe"
      },
      "execution_count": 42,
      "outputs": []
    },
    {
      "cell_type": "code",
      "source": [
        "consumer.subscribe([topic])"
      ],
      "metadata": {
        "id": "7qblvfsB9fLl"
      },
      "execution_count": 43,
      "outputs": []
    },
    {
      "cell_type": "code",
      "source": [
        "message = consumer.poll(timeout=1.0)"
      ],
      "metadata": {
        "id": "Bwyb4KcsDqyH"
      },
      "execution_count": 44,
      "outputs": []
    },
    {
      "cell_type": "code",
      "source": [
        "key = message.key().decode('utf-8') if message.key() else None\n",
        "value = message.value().decode('utf-8')\n",
        "print(f\"Received message: key = {key}, value = {value}\")"
      ],
      "metadata": {
        "colab": {
          "base_uri": "https://localhost:8080/",
          "height": 176
        },
        "id": "OjZfETmO-zRd",
        "outputId": "b5cc686b-51be-4142-d579-5a66b84e6926"
      },
      "execution_count": 48,
      "outputs": [
        {
          "output_type": "error",
          "ename": "AttributeError",
          "evalue": "'NoneType' object has no attribute 'key'",
          "traceback": [
            "\u001b[0;31m---------------------------------------------------------------------------\u001b[0m",
            "\u001b[0;31mAttributeError\u001b[0m                            Traceback (most recent call last)",
            "\u001b[0;32m/tmp/ipython-input-4096411680.py\u001b[0m in \u001b[0;36m<cell line: 0>\u001b[0;34m()\u001b[0m\n\u001b[0;32m----> 1\u001b[0;31m \u001b[0mkey\u001b[0m \u001b[0;34m=\u001b[0m \u001b[0mmessage\u001b[0m\u001b[0;34m.\u001b[0m\u001b[0mkey\u001b[0m\u001b[0;34m(\u001b[0m\u001b[0;34m)\u001b[0m\u001b[0;34m.\u001b[0m\u001b[0mdecode\u001b[0m\u001b[0;34m(\u001b[0m\u001b[0;34m'utf-8'\u001b[0m\u001b[0;34m)\u001b[0m \u001b[0;32mif\u001b[0m \u001b[0mmessage\u001b[0m\u001b[0;34m.\u001b[0m\u001b[0mkey\u001b[0m\u001b[0;34m(\u001b[0m\u001b[0;34m)\u001b[0m \u001b[0;32melse\u001b[0m \u001b[0;32mNone\u001b[0m\u001b[0;34m\u001b[0m\u001b[0;34m\u001b[0m\u001b[0m\n\u001b[0m\u001b[1;32m      2\u001b[0m \u001b[0mvalue\u001b[0m \u001b[0;34m=\u001b[0m \u001b[0mmessage\u001b[0m\u001b[0;34m.\u001b[0m\u001b[0mvalue\u001b[0m\u001b[0;34m(\u001b[0m\u001b[0;34m)\u001b[0m\u001b[0;34m.\u001b[0m\u001b[0mdecode\u001b[0m\u001b[0;34m(\u001b[0m\u001b[0;34m'utf-8'\u001b[0m\u001b[0;34m)\u001b[0m\u001b[0;34m\u001b[0m\u001b[0;34m\u001b[0m\u001b[0m\n\u001b[1;32m      3\u001b[0m \u001b[0mprint\u001b[0m\u001b[0;34m(\u001b[0m\u001b[0;34mf\"Received message: key = {key}, value = {value}\"\u001b[0m\u001b[0;34m)\u001b[0m\u001b[0;34m\u001b[0m\u001b[0;34m\u001b[0m\u001b[0m\n",
            "\u001b[0;31mAttributeError\u001b[0m: 'NoneType' object has no attribute 'key'"
          ]
        }
      ]
    },
    {
      "cell_type": "code",
      "source": [
        "def process_message(message):\n",
        "  try:\n",
        "    if message.error():\n",
        "      if (message.error().code()) == KafkaError._PARTITION_EOF:\n",
        "        print(\"End of partition reached {0}/{1}\".format(message.topic(), message.partition()))\n",
        "      else:\n",
        "        raise KafkaException(message.error())\n",
        "    else:\n",
        "      key = message.key().decode('utf-8') if message.key() else None\n",
        "      value = message.value().decode('utf-8')\n",
        "      print(f\"Received message: key = {key}, value = {value}\")\n",
        "  except Exception as e:\n",
        "    print(f\"Error processing message: {e}\")"
      ],
      "metadata": {
        "id": "10Ok3uu1-kgO"
      },
      "execution_count": 46,
      "outputs": []
    },
    {
      "cell_type": "code",
      "source": [
        "try:\n",
        "  print(\"Listening to message. Press ctrl+C to interrupt\")\n",
        "  while True:\n",
        "    message = consumer.poll(timeout=1.0)\n",
        "    if message is None:\n",
        "      continue\n",
        "    if message.error():\n",
        "      raise KafkaException(message.error())\n",
        "    else:\n",
        "      process_message(message)\n",
        "    # Add a small delay to prevent rapid polling issues\n",
        "    time.sleep(0.1)\n",
        "except KeyboardInterrupt:\n",
        "  print(\"Interrupted by user\")\n",
        "except Exception as e:\n",
        "  print(f\"An error occurred: {e}\")\n",
        "finally:\n",
        "  if consumer is not None:\n",
        "    consumer.close()\n",
        "    print(\"Consumer closed.\")"
      ],
      "metadata": {
        "colab": {
          "base_uri": "https://localhost:8080/"
        },
        "id": "vV_hGG8dBEfN",
        "outputId": "e28495f2-3dc0-46d6-9de2-fa23d41046ff"
      },
      "execution_count": 47,
      "outputs": [
        {
          "output_type": "stream",
          "name": "stdout",
          "text": [
            "Listening to message. Press ctrl+C to interrupt\n",
            "Interrupted by user\n",
            "Consumer closed.\n"
          ]
        }
      ]
    },
    {
      "cell_type": "code",
      "source": [],
      "metadata": {
        "id": "-WkqE3cICN4m"
      },
      "execution_count": null,
      "outputs": []
    }
  ]
}